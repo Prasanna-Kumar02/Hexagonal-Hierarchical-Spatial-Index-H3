{
 "cells": [
  {
   "cell_type": "markdown",
   "metadata": {},
   "source": [
    "# Hexagonal-Hierarchical-Spatial-Index-H3"
   ]
  },
  {
   "cell_type": "code",
   "execution_count": 19,
   "metadata": {},
   "outputs": [
    {
     "data": {
      "text/plain": [
       "'884b988b41fffff'"
      ]
     },
     "execution_count": 19,
     "metadata": {},
     "output_type": "execute_result"
    }
   ],
   "source": [
    "from h3 import h3\n",
    "#a lat/lng point to an H3 index\n",
    "h3_key =h3.geo_to_h3(20, 123, 8)\n",
    "h3_key"
   ]
  },
  {
   "cell_type": "code",
   "execution_count": 14,
   "metadata": {},
   "outputs": [
    {
     "data": {
      "text/plain": [
       "[19.763855467285985, 123.28195140705856]"
      ]
     },
     "execution_count": 14,
     "metadata": {},
     "output_type": "execute_result"
    }
   ],
   "source": [
    "# Get the center of an H3 index as a lat/lng point\n",
    "h3.h3_to_geo(\"824b9ffffffffff\")"
   ]
  },
  {
   "cell_type": "code",
   "execution_count": 18,
   "metadata": {},
   "outputs": [
    {
     "data": {
      "text/plain": [
       "[[20.678136595004702, 121.93365313479985],\n",
       " [19.062431348556302, 121.6815462879808],\n",
       " [18.127070267319834, 123.02355515221002],\n",
       " [18.82008610796306, 124.64261620566457],\n",
       " [20.456245285450134, 124.90903454276271],\n",
       " [21.379153198161493, 123.54226869469619]]"
      ]
     },
     "execution_count": 18,
     "metadata": {},
     "output_type": "execute_result"
    }
   ],
   "source": [
    "# Get the vertices of an H3 index as lat/lng points\n",
    "h3.h3_to_geo_boundary('824b9ffffffffff')"
   ]
  },
  {
   "cell_type": "code",
   "execution_count": 28,
   "metadata": {},
   "outputs": [
    {
     "data": {
      "text/plain": [
       "{'8a28342e20c7fff',\n",
       " '8a28342e20cffff',\n",
       " '8a28342e20d7fff',\n",
       " '8a28342e20dffff',\n",
       " '8a28342e20e7fff',\n",
       " '8a28342e20effff',\n",
       " '8a28342e20f7fff'}"
      ]
     },
     "execution_count": 28,
     "metadata": {},
     "output_type": "execute_result"
    }
   ],
   "source": [
    "# Get the children of an H3 index at the given (finer) resolution\n",
    "h3.h3_to_children(\"8928342e20fffff\", 10)"
   ]
  },
  {
   "cell_type": "code",
   "execution_count": 23,
   "metadata": {},
   "outputs": [
    {
     "data": {
      "text/plain": [
       "'8728342e2ffffff'"
      ]
     },
     "execution_count": 23,
     "metadata": {},
     "output_type": "execute_result"
    }
   ],
   "source": [
    "# Get the parent of an H3 index at the given (coarser) resolution\n",
    "h3.h3_to_parent(\"8928342e20fffff\", 7)"
   ]
  },
  {
   "cell_type": "code",
   "execution_count": null,
   "metadata": {},
   "outputs": [],
   "source": []
  }
 ],
 "metadata": {
  "kernelspec": {
   "display_name": "Python 3",
   "language": "python",
   "name": "python3"
  },
  "language_info": {
   "codemirror_mode": {
    "name": "ipython",
    "version": 3
   },
   "file_extension": ".py",
   "mimetype": "text/x-python",
   "name": "python",
   "nbconvert_exporter": "python",
   "pygments_lexer": "ipython3",
   "version": "3.7.3"
  }
 },
 "nbformat": 4,
 "nbformat_minor": 2
}
